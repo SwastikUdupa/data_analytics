{
 "cells": [
  {
   "cell_type": "code",
   "execution_count": 1,
   "metadata": {
    "collapsed": true
   },
   "outputs": [],
   "source": [
    "import pandas as pd"
   ]
  },
  {
   "cell_type": "code",
   "execution_count": 2,
   "metadata": {},
   "outputs": [
    {
     "name": "stdout",
     "output_type": "stream",
     "text": [
      "['Unnamed: 0', 'ROW_ID_x', 'SUBJECT_ID', 'HADM_ID', 'CHARTDATE', 'CHARTTIME', 'STORETIME', 'CATEGORY', 'DESCRIPTION', 'CGID', 'ISERROR', 'TEXT', 'ROW_ID_y', 'ADMITTIME', 'DISCHTIME', 'DEATHTIME', 'ADMISSION_TYPE', 'ADMISSION_LOCATION', 'DISCHARGE_LOCATION', 'INSURANCE', 'LANGUAGE', 'RELIGION', 'MARITAL_STATUS', 'ETHNICITY', 'EDREGTIME', 'EDOUTTIME', 'DIAGNOSIS', 'HOSPITAL_EXPIRE_FLAG', 'HAS_CHARTEVENTS_DATA']\n"
     ]
    }
   ],
   "source": [
    "mimic_data  = pd.read_csv(\"data.csv\")\n",
    "mimic_data = mimic_data\n",
    "print(list(mimic_data))"
   ]
  },
  {
   "cell_type": "markdown",
   "metadata": {
    "collapsed": true
   },
   "source": [
    "CHART_TIME = Time at which the observation was noted down by the nurse\n",
    "CHART_DATE = CHARTDATE is equivalent to CHARTTIME, except it does not contain any information on the time (all hour, minute, and seconds are 0 for these measurements).\n",
    "STORE_TIME = The STORETIME provides the exact time that this validation occurred\n",
    "CATEGORY = CATEGORY is a integer which identifies the category of the CPT code.\n",
    "DESCRIPTION = Refers to the type\n",
    "CGID = CGID is the identifier for the caregiver who validated the given measurement\n",
    "ISERROR = A ‘1’ in the ISERROR column indicates that a physician has identified this note as an error. (I think this is associated with the CG)\n",
    "ADMITTIME = Time at which the patient was admitted\n",
    "DISCHTIME = Time at which the patient was discharged\n",
    "DEATHTIME = Time at which the patient died.\n",
    "ADMISSION_TYPE = ADMISSION_TYPE describes the type of the admission: ‘ELECTIVE’, ‘URGENT’, ‘NEWBORN’ or ‘EMERGENCY’. Emergency/urgent indicate unplanned medical care, and are often collapsed into a single category in studies. \n",
    "ADMISSION_LOCATION = ADMISSION_LOCATION provides information about the previous location of the patient prior to arriving at the hospital.\n",
    "DISCHARGE_LOCATION = DISCHARGE_LOCATION provides information about the discharge location ofthe patient.\n",
    "INSURANCE = Tells if the patient has any kind of insurance\n",
    "LANGUAGE = Tells what the language of the patient is\n",
    "RELIGION = Tells the religion of the patient\n",
    "MARITAL_STATUS = Tells the marita status of the patient \n",
    "ETHNICITY = Tells the ethnicity\n",
    "EDREGTIME = Time that the patient was registered from emergency department\n",
    "EDOUTTIME = Time patient was discharged from the emergency department\n",
    "DIAGNOSIS = Diagnosis of the patient\n",
    "HOSPITAL_EXPIRE_FLAG = Probably means if the patient expired in the hospital or not\n",
    "HAS_CHARTEVENTS_DATA = \n",
    "    \n",
    "Identifiers which specify the patient: SUBJECT_ID is unique to a patient and HADM_ID is unique to a patient hospital stay."
   ]
  },
  {
   "cell_type": "code",
   "execution_count": 3,
   "metadata": {},
   "outputs": [
    {
     "name": "stdout",
     "output_type": "stream",
     "text": [
      "{'pat_id': 22532, 'hospital': [{'stay_id': 167853.0, 'diagnosis': 'RT LOWER LOBE PNEUMONIA', 'chart_time': [nan, nan, nan, nan, nan, nan, nan, nan, '2151-07-16 05:01:00', '2151-08-04 15:39:00', '2151-08-04 15:38:00', '2151-07-29 15:02:00', '2151-08-02 14:32:00', '2151-07-16 10:10:00', '2151-07-27 09:21:00', '2151-07-17 06:15:00', '2151-07-18 16:50:00', '2151-07-17 12:03:00', '2151-07-16 19:11:00', '2151-07-22 09:54:00', '2151-07-23 13:43:00', '2151-07-16 11:24:00', '2151-07-18 14:01:00', '2151-07-18 18:53:00', '2151-07-19 04:53:00', '2151-07-19 16:32:00', '2151-07-17 17:22:00', '2151-07-18 05:12:00', '2151-07-16 15:27:00', '2151-07-17 02:05:00', '2151-07-17 05:36:00', '2151-07-17 05:47:00'], 'admit_time': '2151-07-16 14:29:00', 'disch_time': '2151-08-04 19:10:00', 'admission_type': 'EMERGENCY', 'admission_location': 'EMERGENCY ROOM ADMIT', 'discharge_location': 'REHAB/DISTINCT PART HOSP', 'edreg_time': '2151-07-16 04:49:00', 'edout_time': 'UNKNOWN/NOT SPECIFIED'}], 'death_time': nan, 'insurance': 'Medicare', 'language': nan, 'religion': 'UNOBTAINABLE', 'marital_status': 'UNKNOWN (DEFAULT)', 'ethnicity': 'UNKNOWN/NOT SPECIFIED'}\n"
     ]
    }
   ],
   "source": [
    "pat_set = set()\n",
    "data = mimic_data.as_matrix()\n",
    "final_structure = []\n",
    "for entry in data:\n",
    "    subject_id = entry[2]\n",
    "    stay_id = entry[3]\n",
    "    store_time = entry[6]\n",
    "    chart_time = entry[5]\n",
    "    category = entry[7]\n",
    "    admit_time = entry[13]\n",
    "    disch_time = entry[14]\n",
    "    death_time = entry[15]\n",
    "    admission_type = entry[16]\n",
    "    admission_location = entry[17]\n",
    "    discharge_location = entry[18]\n",
    "    insurance = entry[19]\n",
    "    language = entry[20]\n",
    "    religion = entry[21]\n",
    "    marital_status = entry[22]\n",
    "    ethnicity = entry[23]\n",
    "    edreg_time = entry[24]\n",
    "    edout_time = entry[23]\n",
    "    diagnosis = entry[26]\n",
    "    \n",
    "    if subject_id not in pat_set:\n",
    "        # then we need to construct a new tuple with the entries\n",
    "        pat_set.add(subject_id)\n",
    "        outer_struct = {'pat_id':subject_id, 'hospital':[], 'death_time': death_time, 'insurance': insurance,\n",
    "                       'language': language, 'religion': religion, 'marital_status': marital_status, \n",
    "                       'ethnicity': ethnicity}\n",
    "        inner_struct = {'stay_id':stay_id, 'diagnosis':diagnosis, 'chart_time':[chart_time],\n",
    "                       'admit_time':admit_time, 'disch_time': disch_time, 'admission_type': admission_type,\n",
    "                       'admission_location': admission_location, 'discharge_location': discharge_location,\n",
    "                        'edreg_time': edreg_time, 'edout_time': edout_time\n",
    "                       } \n",
    "        outer_struct['hospital'].append(inner_struct)\n",
    "        final_structure.append(outer_struct)\n",
    "    else:\n",
    "        for items in final_structure:\n",
    "            if subject_id == items['pat_id']:\n",
    "                items['hospital'][0]['chart_time'].append(chart_time)\n",
    "        # in this case it means there exists multiple cases of diagnosis for the same pat_id, hamd_id.\n",
    "        \n",
    "print(final_structure[0])"
   ]
  },
  {
   "cell_type": "markdown",
   "metadata": {},
   "source": [
    "What type of data is needed for the hospital:\n",
    "1. Number of patients admitted in a month\n",
    "2. Average duration of the patients\n",
    "3. Admission location\n",
    "4. Discharge location\n",
    "5. Insurance\n",
    "6. Language\n",
    "7. Religion\n",
    "8. Marital Status\n",
    "9. Ethnicity\n",
    "10. Emergency registered time\n",
    "11. Emergency discharged time\n",
    "12. Has chart events data\n",
    "\n",
    "SUBJECT_ID{\n",
    "    LANGUAGE,\n",
    "    RELIGION,\n",
    "    ETHNICITY,\n",
    "    INSURANCE,\n",
    "    MARITAL_STATUS,\n",
    "    death_time,\n",
    "    HADM_ID{\n",
    "              ADMITTIME,\n",
    "              DISCHTIME,\n",
    "              DEATHTIME,\n",
    "              EDREGTIME,\n",
    "              EDOUTTIME,\n",
    "              CHART_TIME[],\n",
    "              STORE_TIME,\n",
    "              DISCHARGE_LOCATION,\n",
    "              ADMISSION_TYPE,\n",
    "              ADMISSION_LOCATION,\n",
    "              CATEGORY,\n",
    "              CG_ID,\n",
    "              ISERROR,\n",
    "          }\n",
    "    }\n",
    "}"
   ]
  },
  {
   "cell_type": "code",
   "execution_count": 9,
   "metadata": {
    "collapsed": true
   },
   "outputs": [],
   "source": [
    "insuranceSet = {}\n",
    "for i in range(46139):\n",
    "    try:\n",
    "        insuranceSet[(final_structure[i]['insurance'])]+=1\n",
    "    except:\n",
    "        insuranceSet[(final_structure[i]['insurance'])] = 1"
   ]
  },
  {
   "cell_type": "code",
   "execution_count": 10,
   "metadata": {},
   "outputs": [
    {
     "name": "stdout",
     "output_type": "stream",
     "text": [
      "{'Medicare': 20365, 'Private': 19289, 'Government': 1528, 'Medicaid': 4380, 'Self Pay': 577}\n"
     ]
    }
   ],
   "source": [
    "print(insuranceSet)"
   ]
  },
  {
   "cell_type": "code",
   "execution_count": 11,
   "metadata": {
    "collapsed": true
   },
   "outputs": [],
   "source": [
    "import pickle\n",
    "with open('mimicData.pickle', 'wb') as handle:\n",
    "    pickle.dump(final_structure, handle, protocol=pickle.HIGHEST_PROTOCOL)"
   ]
  },
  {
   "cell_type": "code",
   "execution_count": 15,
   "metadata": {
    "collapsed": true
   },
   "outputs": [],
   "source": [
    "deathSet = set()\n",
    "for i in range(46139):\n",
    "    deathSet.add(final_structure[i]['death_time'])"
   ]
  },
  {
   "cell_type": "code",
   "execution_count": 36,
   "metadata": {
    "collapsed": true
   },
   "outputs": [],
   "source": [
    "import numpy as np\n",
    "death_type_set = {}\n",
    "count1 = 0\n",
    "count2 = 0\n",
    "for i in range(46139):\n",
    "    try:\n",
    "        if np.isnan(final_structure[i]['death_time']):\n",
    "            count1+=1\n",
    "            try:\n",
    "                death_type_set[final_structure[i]['hospital'][0]['admission_type']]+=1\n",
    "            except:\n",
    "                death_type_set[final_structure[i]['hospital'][0]['admission_type']]=1\n",
    "    except:\n",
    "        count2+=1"
   ]
  },
  {
   "cell_type": "code",
   "execution_count": 40,
   "metadata": {},
   "outputs": [
    {
     "name": "stdout",
     "output_type": "stream",
     "text": [
      "{'EMERGENCY': 27267, 'ELECTIVE': 6068, 'URGENT': 1002, 'NEWBORN': 7547}\n",
      "4255\n"
     ]
    }
   ],
   "source": [
    "print(death_type_set)\n",
    "print(count2)"
   ]
  },
  {
   "cell_type": "code",
   "execution_count": 2,
   "metadata": {},
   "outputs": [],
   "source": [
    "import pickle\n",
    "objects = []\n",
    "with (open(\"mimicData.pickle\", \"rb\")) as openfile:\n",
    "    while True:\n",
    "        try:\n",
    "            objects.append(pickle.load(openfile))\n",
    "        except EOFError:\n",
    "            break"
   ]
  },
  {
   "cell_type": "code",
   "execution_count": 5,
   "metadata": {},
   "outputs": [
    {
     "name": "stdout",
     "output_type": "stream",
     "text": [
      "{'pat_id': 22532, 'hospital': [{'stay_id': 167853.0, 'diagnosis': 'RT LOWER LOBE PNEUMONIA', 'chart_time': [nan, nan, nan, nan, nan, nan, nan, nan, '2151-07-16 05:01:00', '2151-08-04 15:39:00', '2151-08-04 15:38:00', '2151-07-29 15:02:00', '2151-08-02 14:32:00', '2151-07-16 10:10:00', '2151-07-27 09:21:00', '2151-07-17 06:15:00', '2151-07-18 16:50:00', '2151-07-17 12:03:00', '2151-07-16 19:11:00', '2151-07-22 09:54:00', '2151-07-23 13:43:00', '2151-07-16 11:24:00', '2151-07-18 14:01:00', '2151-07-18 18:53:00', '2151-07-19 04:53:00', '2151-07-19 16:32:00', '2151-07-17 17:22:00', '2151-07-18 05:12:00', '2151-07-16 15:27:00', '2151-07-17 02:05:00', '2151-07-17 05:36:00', '2151-07-17 05:47:00'], 'admit_time': '2151-07-16 14:29:00', 'disch_time': '2151-08-04 19:10:00', 'admission_type': 'EMERGENCY', 'admission_location': 'EMERGENCY ROOM ADMIT', 'discharge_location': 'REHAB/DISTINCT PART HOSP', 'edreg_time': '2151-07-16 04:49:00', 'edout_time': 'UNKNOWN/NOT SPECIFIED'}], 'death_time': nan, 'insurance': 'Medicare', 'language': nan, 'religion': 'UNOBTAINABLE', 'marital_status': 'UNKNOWN (DEFAULT)', 'ethnicity': 'UNKNOWN/NOT SPECIFIED'}\n"
     ]
    }
   ],
   "source": [
    "for items in objects:\n",
    "    print(items[0])\n",
    "    break"
   ]
  },
  {
   "cell_type": "code",
   "execution_count": null,
   "metadata": {
    "collapsed": true
   },
   "outputs": [],
   "source": []
  }
 ],
 "metadata": {
  "kernelspec": {
   "display_name": "Python 3",
   "language": "python",
   "name": "python3"
  },
  "language_info": {
   "codemirror_mode": {
    "name": "ipython",
    "version": 3
   },
   "file_extension": ".py",
   "mimetype": "text/x-python",
   "name": "python",
   "nbconvert_exporter": "python",
   "pygments_lexer": "ipython3",
   "version": "3.6.1"
  }
 },
 "nbformat": 4,
 "nbformat_minor": 2
}
